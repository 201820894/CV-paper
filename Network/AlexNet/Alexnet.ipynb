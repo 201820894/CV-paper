{
 "cells": [
  {
   "cell_type": "code",
   "execution_count": 1,
   "metadata": {},
   "outputs": [],
   "source": [
    "import torch.nn as nn\n",
    "import torch\n",
    "import torchvision\n",
    "import torchvision.transforms as transforms\n",
    "cifar_path=\"../../Datasets/cifar10\"\n",
    "weight_path=\"../../Weights/Alexnet\""
   ]
  },
  {
   "cell_type": "markdown",
   "metadata": {},
   "source": [
    "### Load Dataset"
   ]
  },
  {
   "cell_type": "code",
   "execution_count": 2,
   "metadata": {},
   "outputs": [
    {
     "name": "stdout",
     "output_type": "stream",
     "text": [
      "Files already downloaded and verified\n",
      "Files already downloaded and verified\n"
     ]
    }
   ],
   "source": [
    "train_transform=transforms.Compose([\n",
    "    transforms.ToTensor(),\n",
    "    transforms.Resize(227),\n",
    "    transforms.RandomHorizontalFlip(0.5),\n",
    "    transforms.Normalize((0.5,0.5,0.5), (0.5,0.5,0.5)),\n",
    "])\n",
    "\n",
    "test_transform=transforms.Compose([\n",
    "    transforms.ToTensor(),\n",
    "    transforms.Resize(227),\n",
    "    transforms.Normalize((0.5,0.5,0.5), (0.5,0.5,0.5)),\n",
    "])\n",
    "\n",
    "\n",
    "train=torchvision.datasets.CIFAR10(root=cifar_path, train=True, download=True, transform=train_transform)\n",
    "test=torchvision.datasets.CIFAR10(root=cifar_path, train=False, download=True, transform=test_transform)\n"
   ]
  },
  {
   "cell_type": "markdown",
   "metadata": {},
   "source": [
    "### Train, Validation split"
   ]
  },
  {
   "cell_type": "code",
   "execution_count": 3,
   "metadata": {},
   "outputs": [
    {
     "name": "stderr",
     "output_type": "stream",
     "text": [
      "c:\\Users\\wongyun\\miniconda3\\envs\\torchstudy\\lib\\site-packages\\scipy\\__init__.py:146: UserWarning: A NumPy version >=1.16.5 and <1.23.0 is required for this version of SciPy (detected version 1.23.1\n",
      "  warnings.warn(f\"A NumPy version >={np_minversion} and <{np_maxversion}\"\n"
     ]
    },
    {
     "name": "stdout",
     "output_type": "stream",
     "text": [
      "#train:40000\n",
      "#val:10000\n"
     ]
    }
   ],
   "source": [
    "import numpy as np\n",
    "from sklearn.model_selection import StratifiedShuffleSplit\n",
    "\n",
    "indices=list(range(len(train)))\n",
    "values=[y for _,y in train]\n",
    "\n",
    "s=StratifiedShuffleSplit(n_splits=1, test_size=0.2, random_state=42)\n",
    "for train_idx, val_idx in s.split(indices, values):\n",
    "    print(f\"#train:{len(train_idx)}\")\n",
    "    print(f\"#val:{len(val_idx)}\")\n"
   ]
  },
  {
   "cell_type": "code",
   "execution_count": 4,
   "metadata": {},
   "outputs": [
    {
     "name": "stdout",
     "output_type": "stream",
     "text": [
      "train distribution:Counter({6: 4000, 7: 4000, 8: 4000, 3: 4000, 2: 4000, 1: 4000, 4: 4000, 9: 4000, 0: 4000, 5: 4000})\n",
      "validation distribution:Counter({2: 1000, 7: 1000, 1: 1000, 9: 1000, 6: 1000, 8: 1000, 0: 1000, 3: 1000, 5: 1000, 4: 1000})\n"
     ]
    }
   ],
   "source": [
    "import collections\n",
    "from torch.utils.data import Subset\n",
    "\n",
    "val=Subset(train, val_idx)\n",
    "train=Subset(train, train_idx)\n",
    "\n",
    "val_count=collections.Counter([y for _, y in val])\n",
    "train_count=collections.Counter([y for _, y in train])\n",
    "\n",
    "print(f\"train distribution:{train_count}\")\n",
    "print(f\"validation distribution:{val_count}\")"
   ]
  },
  {
   "cell_type": "markdown",
   "metadata": {},
   "source": [
    "### Transform to DataLoader"
   ]
  },
  {
   "cell_type": "code",
   "execution_count": 5,
   "metadata": {},
   "outputs": [],
   "source": [
    "from torch.utils.data import DataLoader\n",
    "\n",
    "batch_size=64\n",
    "train_dl=DataLoader(train, batch_size=batch_size)\n",
    "val_dl=DataLoader(val, batch_size=batch_size)"
   ]
  },
  {
   "cell_type": "markdown",
   "metadata": {},
   "source": [
    "### Define Model"
   ]
  },
  {
   "cell_type": "code",
   "execution_count": 6,
   "metadata": {},
   "outputs": [],
   "source": [
    "#구현 안한거: Weight decay: validation set이 더이상 감소하지 않을 때 마다 weight 1/10 으로 줄이는거\n",
    "#learning rate by 10 when the validation error rate stopped improving with the current learning rate.\n",
    "class AlexNet(nn.Module):\n",
    "    def __init__(self, num_class=10):\n",
    "        super(AlexNet, self).__init__()\n",
    "        \n",
    "        self.conv1=nn.Sequential(\n",
    "            nn.Conv2d(3, 96, kernel_size=11, stride=4, padding='valid'),\n",
    "            nn.ReLU(),\n",
    "            nn.LocalResponseNorm(size=5, alpha=1e-4, beta=0.75, k=2),\n",
    "            nn.MaxPool2d(3, stride=2), #feature map size 27\n",
    "        )\n",
    "        \n",
    "        self.conv2=nn.Sequential(\n",
    "            nn.Conv2d(96, 256, kernel_size=5, stride=1, padding='same'),\n",
    "            nn.ReLU(),\n",
    "            nn.LocalResponseNorm(size=5, alpha=1e-4, beta=0.75, k=2),\n",
    "            nn.MaxPool2d(3, stride=2), #feature map size 13\n",
    "        )\n",
    "        \n",
    "        self.conv3=nn.Sequential(\n",
    "            nn.Conv2d(256,384, kernel_size=3, stride=1, padding='same'),\n",
    "            nn.ReLU()\n",
    "        )\n",
    "        \n",
    "        self.conv4=nn.Sequential(\n",
    "            nn.Conv2d(384,384, kernel_size=3, stride=1, padding='same'),\n",
    "            nn.ReLU()\n",
    "        )\n",
    "        \n",
    "        self.conv5=nn.Sequential(\n",
    "            nn.Conv2d(384, 256, kernel_size=3, stride=1, padding='same'),\n",
    "            nn.ReLU(),\n",
    "            nn.MaxPool2d(3, stride=2), #feature map size 16\n",
    "        )\n",
    "        \n",
    "        self.classifier=nn.Sequential(\n",
    "            nn.Dropout(p=0.5),\n",
    "            nn.Linear(6*6*256, 4096),\n",
    "            nn.ReLU(),\n",
    "            nn.Dropout(0.5),\n",
    "            nn.Linear(4096, 4096),\n",
    "            nn.ReLU(),\n",
    "            nn.Linear(4096,num_class)\n",
    "        )\n",
    "        \n",
    "        nn.init.normal_(self.conv1[0].weight, mean=0, std=0.01) #그냥 한번에 묶을걸,, 함수 만들어도 예외가 많아서 힘들듯\n",
    "        nn.init.normal_(self.conv2[0].weight, mean=0, std=0.01)\n",
    "        nn.init.normal_(self.conv3[0].weight, mean=0, std=0.01)\n",
    "        nn.init.normal_(self.conv4[0].weight, mean=0, std=0.01)\n",
    "        nn.init.normal_(self.conv5[0].weight, mean=0, std=0.01)  \n",
    "        nn.init.normal_(self.classifier[1].weight, mean=0, std=0.01) \n",
    "        nn.init.normal_(self.classifier[4].weight, mean=0, std=0.01) \n",
    "        nn.init.normal_(self.classifier[6].weight, mean=0, std=0.01) \n",
    "        \n",
    "        \n",
    "        nn.init.constant_(self.conv1[0].bias, 0)\n",
    "        nn.init.constant_(self.conv2[0].bias, 1)   \n",
    "        nn.init.constant_(self.conv3[0].bias, 0)  \n",
    "        nn.init.constant_(self.conv4[0].bias, 1)  \n",
    "        nn.init.constant_(self.conv5[0].bias, 1)  \n",
    "        nn.init.constant_(self.classifier[1].bias, 1) \n",
    "        nn.init.constant_(self.classifier[4].bias, 1) \n",
    "        nn.init.constant_(self.classifier[6].bias, 1) \n",
    "        \n",
    "    def forward(self, x):\n",
    "        output=self.conv1(x)\n",
    "        output=self.conv2(output)\n",
    "        output=self.conv3(output)\n",
    "        output=self.conv4(output)\n",
    "        output=self.conv5(output)\n",
    "        \n",
    "        output=output.view(-1, 6*6*256)\n",
    "        \n",
    "        output=self.classifier(output)\n",
    "        \n",
    "        return output"
   ]
  },
  {
   "cell_type": "code",
   "execution_count": 7,
   "metadata": {},
   "outputs": [
    {
     "name": "stdout",
     "output_type": "stream",
     "text": [
      "----------------------------------------------------------------\n",
      "        Layer (type)               Output Shape         Param #\n",
      "================================================================\n",
      "            Conv2d-1           [-1, 96, 55, 55]          34,944\n",
      "              ReLU-2           [-1, 96, 55, 55]               0\n",
      " LocalResponseNorm-3           [-1, 96, 55, 55]               0\n",
      "         MaxPool2d-4           [-1, 96, 27, 27]               0\n",
      "            Conv2d-5          [-1, 256, 27, 27]         614,656\n",
      "              ReLU-6          [-1, 256, 27, 27]               0\n",
      " LocalResponseNorm-7          [-1, 256, 27, 27]               0\n",
      "         MaxPool2d-8          [-1, 256, 13, 13]               0\n",
      "            Conv2d-9          [-1, 384, 13, 13]         885,120\n",
      "             ReLU-10          [-1, 384, 13, 13]               0\n",
      "           Conv2d-11          [-1, 384, 13, 13]       1,327,488\n",
      "             ReLU-12          [-1, 384, 13, 13]               0\n",
      "           Conv2d-13          [-1, 256, 13, 13]         884,992\n",
      "             ReLU-14          [-1, 256, 13, 13]               0\n",
      "        MaxPool2d-15            [-1, 256, 6, 6]               0\n",
      "          Dropout-16                 [-1, 9216]               0\n",
      "           Linear-17                 [-1, 4096]      37,752,832\n",
      "             ReLU-18                 [-1, 4096]               0\n",
      "          Dropout-19                 [-1, 4096]               0\n",
      "           Linear-20                 [-1, 4096]      16,781,312\n",
      "             ReLU-21                 [-1, 4096]               0\n",
      "           Linear-22                   [-1, 10]          40,970\n",
      "================================================================\n",
      "Total params: 58,322,314\n",
      "Trainable params: 58,322,314\n",
      "Non-trainable params: 0\n",
      "----------------------------------------------------------------\n",
      "Input size (MB): 0.59\n",
      "Forward/backward pass size (MB): 14.72\n",
      "Params size (MB): 222.48\n",
      "Estimated Total Size (MB): 237.79\n",
      "----------------------------------------------------------------\n",
      "None\n"
     ]
    }
   ],
   "source": [
    "device=torch.device('cuda' if torch.cuda.is_available() else 'cpu')\n",
    "model=AlexNet().to(device)\n",
    "\n",
    "from torchsummary import summary\n",
    "print(summary(model, input_size=(3,227,227)))"
   ]
  },
  {
   "cell_type": "markdown",
   "metadata": {},
   "source": [
    "### Define Optimizer and Loss function"
   ]
  },
  {
   "cell_type": "code",
   "execution_count": 8,
   "metadata": {},
   "outputs": [],
   "source": [
    "optimizer=torch.optim.SGD(params=model.parameters(), lr=0.001, momentum=0.9,)\n",
    "loss_fn=nn.CrossEntropyLoss()"
   ]
  },
  {
   "cell_type": "markdown",
   "metadata": {},
   "source": [
    "### Train and Validate"
   ]
  },
  {
   "cell_type": "code",
   "execution_count": 9,
   "metadata": {},
   "outputs": [
    {
     "name": "stdout",
     "output_type": "stream",
     "text": [
      "epoch 1/100 train loss: 2.44435790907114 train acc: 10.094999313354492%\n",
      "epoch 1/100, val loss: 2.3245903238272057 val acc: 9.999999046325684%\n",
      "Best model acc😊\n",
      "Best model loss😍\n",
      "==============================================================\n",
      "epoch 2/100 train loss: 2.3283642484591556 train acc: 10.264999389648438%\n",
      "epoch 2/100, val loss: 2.3176896465130343 val acc: 9.999999046325684%\n",
      "Best model acc😊\n",
      "Best model loss😍\n",
      "==============================================================\n",
      "epoch 3/100 train loss: 2.317130284431653 train acc: 9.899999618530273%\n",
      "epoch 3/100, val loss: 2.317857178357931 val acc: 9.999999046325684%\n",
      "Best model acc😊\n",
      "==============================================================\n",
      "epoch 4/100 train loss: 2.313628064898344 train acc: 9.97249984741211%\n",
      "epoch 4/100, val loss: 2.3174455074163585 val acc: 9.999999046325684%\n",
      "Best model acc😊\n",
      "Best model loss😍\n",
      "==============================================================\n",
      "epoch 5/100 train loss: 2.311133760290268 train acc: 10.017499923706055%\n",
      "epoch 5/100, val loss: 2.317443982148782 val acc: 9.999999046325684%\n",
      "Best model acc😊\n",
      "Best model loss😍\n",
      "==============================================================\n",
      "epoch 6/100 train loss: 2.3104489548848224 train acc: 9.924999237060547%\n",
      "epoch 6/100, val loss: 2.317441633114448 val acc: 9.999999046325684%\n",
      "Best model acc😊\n",
      "Best model loss😍\n",
      "==============================================================\n",
      "epoch 7/100 train loss: 2.3094703337320914 train acc: 9.762499809265137%\n",
      "epoch 7/100, val loss: 2.317397877191886 val acc: 9.999999046325684%\n",
      "Best model acc😊\n",
      "Best model loss😍\n",
      "==============================================================\n",
      "epoch 8/100 train loss: 2.308378837811641 train acc: 10.079999923706055%\n",
      "epoch 8/100, val loss: 2.3173709404774203 val acc: 9.999999046325684%\n",
      "Best model acc😊\n",
      "Best model loss😍\n",
      "==============================================================\n",
      "epoch 9/100 train loss: 2.308113361398379 train acc: 10.192500114440918%\n",
      "epoch 9/100, val loss: 2.317397560828771 val acc: 9.999999046325684%\n",
      "Best model acc😊\n",
      "==============================================================\n",
      "epoch 10/100 train loss: 2.3082765336984243 train acc: 9.917499542236328%\n",
      "epoch 10/100, val loss: 2.3173697896492786 val acc: 9.999999046325684%\n",
      "Best model acc😊\n",
      "Best model loss😍\n",
      "==============================================================\n",
      "epoch 11/100 train loss: 2.3083985390571446 train acc: 9.987499237060547%\n",
      "epoch 11/100, val loss: 2.3173746298520994 val acc: 9.999999046325684%\n",
      "Best model acc😊\n",
      "==============================================================\n",
      "epoch 12/100 train loss: 2.3077156054667936 train acc: 10.012499809265137%\n",
      "epoch 12/100, val loss: 2.3174531062444053 val acc: 9.999999046325684%\n",
      "Best model acc😊\n",
      "==============================================================\n",
      "epoch 13/100 train loss: 2.3078433855985985 train acc: 9.734999656677246%\n",
      "epoch 13/100, val loss: 2.317392274355277 val acc: 9.999999046325684%\n",
      "Best model acc😊\n",
      "==============================================================\n",
      "epoch 14/100 train loss: 2.307975558516307 train acc: 9.6850004196167%\n",
      "epoch 14/100, val loss: 2.317368738162212 val acc: 9.999999046325684%\n",
      "Best model acc😊\n",
      "Best model loss😍\n",
      "==============================================================\n",
      "epoch 15/100 train loss: 2.3073103297979403 train acc: 9.7475004196167%\n",
      "epoch 15/100, val loss: 2.3173770079245934 val acc: 9.999999046325684%\n",
      "Best model acc😊\n",
      "==============================================================\n",
      "epoch 16/100 train loss: 2.3072869151066513 train acc: 9.97249984741211%\n",
      "epoch 16/100, val loss: 2.3173734774956336 val acc: 9.999999046325684%\n",
      "Best model acc😊\n",
      "==============================================================\n",
      "epoch 17/100 train loss: 2.30722029086871 train acc: 9.984999656677246%\n",
      "epoch 17/100, val loss: 2.3174425608072524 val acc: 9.999999046325684%\n",
      "Best model acc😊\n",
      "==============================================================\n",
      "epoch 18/100 train loss: 2.307453446281262 train acc: 9.800000190734863%\n",
      "epoch 18/100, val loss: 2.317381418668307 val acc: 9.999999046325684%\n",
      "Best model acc😊\n",
      "==============================================================\n",
      "epoch 19/100 train loss: 2.3072222284017463 train acc: 10.069999694824219%\n",
      "epoch 19/100, val loss: 2.3173588055830736 val acc: 9.999999046325684%\n",
      "Best model acc😊\n",
      "Best model loss😍\n",
      "==============================================================\n",
      "epoch 20/100 train loss: 2.3071909562135353 train acc: 9.8774995803833%\n",
      "epoch 20/100, val loss: 2.3173938485292287 val acc: 9.999999046325684%\n",
      "Best model acc😊\n",
      "==============================================================\n",
      "epoch 21/100 train loss: 2.307041067725573 train acc: 9.979999542236328%\n",
      "epoch 21/100, val loss: 2.3173887683795047 val acc: 9.999999046325684%\n",
      "Best model acc😊\n",
      "==============================================================\n",
      "epoch 22/100 train loss: 2.307046354199067 train acc: 9.932498931884766%\n",
      "epoch 22/100, val loss: 2.317402008252266 val acc: 9.999999046325684%\n",
      "Best model acc😊\n",
      "==============================================================\n",
      "epoch 23/100 train loss: 2.3070314832222767 train acc: 9.755000114440918%\n",
      "epoch 23/100, val loss: 2.317387107091072 val acc: 9.999999046325684%\n",
      "Best model acc😊\n",
      "==============================================================\n",
      "epoch 24/100 train loss: 2.3067782314924092 train acc: 10.085000038146973%\n",
      "epoch 24/100, val loss: 2.3173659566121225 val acc: 9.999999046325684%\n",
      "Best model acc😊\n",
      "==============================================================\n",
      "epoch 25/100 train loss: 2.30674200065625 train acc: 10.03749942779541%\n",
      "epoch 25/100, val loss: 2.3173610048416333 val acc: 9.999999046325684%\n",
      "Best model acc😊\n",
      "==============================================================\n",
      "epoch 26/100 train loss: 2.306704204816085 train acc: 9.857500076293945%\n",
      "epoch 26/100, val loss: 2.3173764775960874 val acc: 9.999999046325684%\n",
      "Best model acc😊\n",
      "==============================================================\n",
      "epoch 27/100 train loss: 2.3070876602178965 train acc: 9.569999694824219%\n",
      "epoch 27/100, val loss: 2.317371748960935 val acc: 9.999999046325684%\n",
      "Best model acc😊\n",
      "==============================================================\n",
      "epoch 28/100 train loss: 2.306793979727305 train acc: 9.819999694824219%\n",
      "epoch 28/100, val loss: 2.3173663218816123 val acc: 9.989999771118164%\n",
      "==============================================================\n",
      "epoch 29/100 train loss: 2.3068127995118117 train acc: 9.879999160766602%\n",
      "epoch 29/100, val loss: 2.3173728508827014 val acc: 9.999999046325684%\n",
      "Best model acc😊\n",
      "==============================================================\n",
      "epoch 30/100 train loss: 2.306714203495246 train acc: 9.90999984741211%\n",
      "epoch 30/100, val loss: 2.3173746160971813 val acc: 9.999999046325684%\n",
      "Best model acc😊\n",
      "==============================================================\n",
      "epoch 31/100 train loss: 2.306734024714201 train acc: 9.987499237060547%\n",
      "epoch 31/100, val loss: 2.317365927573962 val acc: 9.999999046325684%\n",
      "Best model acc😊\n",
      "==============================================================\n",
      "epoch 32/100 train loss: 2.3069019252673173 train acc: 9.632499694824219%\n",
      "epoch 32/100, val loss: 2.3173895325416174 val acc: 9.999999046325684%\n",
      "Best model acc😊\n",
      "==============================================================\n",
      "epoch 33/100 train loss: 2.306769054287519 train acc: 10.012499809265137%\n",
      "epoch 33/100, val loss: 2.317360289585896 val acc: 9.999999046325684%\n",
      "Best model acc😊\n",
      "==============================================================\n",
      "epoch 34/100 train loss: 2.3066415717968574 train acc: 9.97249984741211%\n",
      "epoch 34/100, val loss: 2.317364206680885 val acc: 9.999999046325684%\n",
      "Best model acc😊\n",
      "==============================================================\n",
      "epoch 35/100 train loss: 2.3067592088228617 train acc: 9.917499542236328%\n",
      "epoch 35/100, val loss: 2.3173542496485586 val acc: 9.999999046325684%\n",
      "Best model acc😊\n",
      "Best model loss😍\n",
      "==============================================================\n",
      "epoch 36/100 train loss: 2.306799183671291 train acc: 9.707500457763672%\n",
      "epoch 36/100, val loss: 2.317350910260127 val acc: 9.999999046325684%\n",
      "Best model acc😊\n",
      "Best model loss😍\n",
      "==============================================================\n",
      "epoch 37/100 train loss: 2.3067007595912004 train acc: 10.09999942779541%\n",
      "epoch 37/100, val loss: 2.3173597989938197 val acc: 9.999999046325684%\n",
      "Best model acc😊\n",
      "==============================================================\n",
      "epoch 38/100 train loss: 2.3067185133695602 train acc: 9.72249984741211%\n",
      "epoch 38/100, val loss: 2.3173520381634054 val acc: 9.999999046325684%\n",
      "Best model acc😊\n",
      "==============================================================\n",
      "epoch 39/100 train loss: 2.306548902239555 train acc: 9.919999122619629%\n",
      "epoch 39/100, val loss: 2.317354203798832 val acc: 9.999999046325684%\n",
      "Best model acc😊\n",
      "==============================================================\n",
      "epoch 40/100 train loss: 2.306614895661672 train acc: 10.359999656677246%\n",
      "epoch 40/100, val loss: 2.317359060813219 val acc: 9.999999046325684%\n",
      "Best model acc😊\n",
      "==============================================================\n",
      "epoch 41/100 train loss: 2.3065714805554123 train acc: 9.962499618530273%\n",
      "epoch 41/100, val loss: 2.317356288433075 val acc: 9.999999046325684%\n",
      "Best model acc😊\n",
      "==============================================================\n",
      "epoch 42/100 train loss: 2.30663624787942 train acc: 9.914999008178711%\n",
      "epoch 42/100, val loss: 2.3173622504258766 val acc: 9.999999046325684%\n",
      "Best model acc😊\n",
      "==============================================================\n",
      "epoch 43/100 train loss: 2.3067250843995657 train acc: 9.832499504089355%\n",
      "epoch 43/100, val loss: 2.317357990986262 val acc: 9.999999046325684%\n",
      "Best model acc😊\n",
      "==============================================================\n",
      "epoch 44/100 train loss: 2.306564342135038 train acc: 9.822500228881836%\n",
      "epoch 44/100, val loss: 2.3173554570246964 val acc: 9.999999046325684%\n",
      "Best model acc😊\n",
      "==============================================================\n"
     ]
    },
    {
     "ename": "",
     "evalue": "",
     "output_type": "error",
     "traceback": [
      "\u001b[1;31mCanceled future for execute_request message before replies were done"
     ]
    },
    {
     "ename": "",
     "evalue": "",
     "output_type": "error",
     "traceback": [
      "현재 셀 또는 이전 셀에서 코드를 실행하는 동안 Kernel이 충돌했습니다. 셀의 코드를 검토하여 오류의 가능한 원인을 식별하세요. 자세한 내용을 보려면 <a href='https://aka.ms/vscodeJupyterKernelCrash'> 여기 </a> 를 클릭하세요. 자세한 내용은 Jupyter <a href='command:jupyter.viewOutput'>로그</a>를 참조하세요."
     ]
    }
   ],
   "source": [
    "import os\n",
    "\n",
    "epoch=100\n",
    "\n",
    "train_loss=[]\n",
    "train_accuracy=[]\n",
    "val_loss=[]\n",
    "val_accuracy=[]\n",
    "best_acc=0\n",
    "best_loss=float('inf')\n",
    "\n",
    "acc_model_path=os.path.join(weight_path, 'alexnet_acc_fixed.pt')\n",
    "loss_model_path=os.path.join(weight_path, 'alexnet_loss_fixed.pt')\n",
    "\n",
    "for iter in range(epoch):\n",
    "    running_loss=0\n",
    "    running_acc=0    \n",
    "    \n",
    "    model.train()\n",
    "    for i, data in enumerate(train_dl):\n",
    "        \n",
    "        train_x, train_y= data\n",
    "        train_x, train_y= train_x.to(device), train_y.to(device)\n",
    "        optimizer.zero_grad()\n",
    "        train_pred=model(train_x)\n",
    "        loss=loss_fn(train_pred, train_y)\n",
    "        \n",
    "        _, predicted = torch.max(train_pred, 1)\n",
    "        acc = (predicted == train_y).squeeze().int()\n",
    "        acc = torch.sum(acc)\n",
    "        \n",
    "        loss.backward()\n",
    "        optimizer.step()\n",
    "        \n",
    "        running_loss+=loss.item()\n",
    "        running_acc+=acc\n",
    "    \n",
    "    print(f\"epoch {iter+1}/{epoch} train loss: {running_loss/i} train acc: {running_acc/len(train)*100}%\")\n",
    "    train_loss.append(running_loss/i)\n",
    "    train_accuracy.append(running_acc/len(train))\n",
    "    \n",
    "    running_loss=0\n",
    "    running_acc=0\n",
    "    \n",
    "    model.eval()\n",
    "    with torch.no_grad():\n",
    "        for i, data in enumerate(val_dl):\n",
    "            \n",
    "            val_x, val_y= data\n",
    "            val_x, val_y= val_x.to(device), val_y.to(device)\n",
    "\n",
    "            val_pred=model(val_x)\n",
    "            loss=loss_fn(val_pred, val_y)\n",
    "\n",
    "            _, predicted = torch.max(val_pred, 1)\n",
    "            acc = (predicted == val_y).squeeze().int()\n",
    "            acc = torch.sum(acc)\n",
    "\n",
    "            running_loss+=loss.item()\n",
    "            running_acc+=acc\n",
    "    \n",
    "    print(f\"epoch {iter+1}/{epoch}, val loss: {running_loss/i} val acc: {running_acc/len(val)*100}%\")\n",
    "    val_loss.append(running_loss/i)\n",
    "    val_accuracy.append(running_acc/len(val))\n",
    "    \n",
    "    if (running_acc/len(val)) >= best_acc: #validation accuracy가 가장 큰 모델로 저장\n",
    "        print(\"Best model acc😊\")\n",
    "        best_model_acc=model\n",
    "        \n",
    "        best_acc=running_acc/len(val)\n",
    "    \n",
    "    if (running_loss/i)<best_loss:\n",
    "        print(\"Best model loss😍\")\n",
    "        best_model_loss=model\n",
    "        \n",
    "        best_loss=(running_loss/i)\n",
    "        \n",
    "    print(\"==============================================================\")\n",
    "    torch.save(best_model_acc.state_dict(), acc_model_path)\n",
    "    torch.save(best_model_loss.state_dict(), loss_model_path)\n",
    "    #계속 저장하지말고 파일 만들고 마지막에 저장하기"
   ]
  },
  {
   "cell_type": "markdown",
   "metadata": {},
   "source": [
    "### Analysis"
   ]
  },
  {
   "cell_type": "code",
   "execution_count": null,
   "metadata": {},
   "outputs": [
    {
     "data": {
      "image/png": "[encoded data removed]",
      "text/plain": [
       "<Figure size 1440x720 with 2 Axes>"
      ]
     },
     "metadata": {
      "needs_background": "light"
     },
     "output_type": "display_data"
    }
   ],
   "source": [
    "import matplotlib.pyplot as plt\n",
    "\n",
    "train_acc=[x.item() for x in train_accuracy]\n",
    "val_acc=[x.item() for x in val_accuracy]\n",
    "\n",
    "plt.figure(figsize=(20,10))\n",
    "plt.subplot(121)\n",
    "plt.plot(np.arange(1,epoch+1), train_loss, label=\"train\")\n",
    "plt.plot(np.arange(1,epoch+1), val_loss, label=\"val\")\n",
    "plt.title(\"loss\")\n",
    "plt.grid(True)\n",
    "plt.legend()\n",
    "\n",
    "plt.subplot(122)\n",
    "plt.plot(np.arange(1,epoch+1), train_acc, label=\"train\")\n",
    "plt.plot(np.arange(1,epoch+1), val_acc, label=\"val\")\n",
    "plt.title(\"accuracy\")\n",
    "plt.grid(True)\n",
    "plt.legend()\n",
    "plt.show()"
   ]
  },
  {
   "cell_type": "markdown",
   "metadata": {},
   "source": [
    "### Test with test set"
   ]
  },
  {
   "cell_type": "code",
   "execution_count": null,
   "metadata": {},
   "outputs": [],
   "source": [
    "model_best_acc=AlexNet().to(device) \n",
    "model_state_dict=torch.load(acc_model_path, map_location=device)\n",
    "model_best_acc.load_state_dict(model_state_dict)\n",
    "\n",
    "model_best_loss=AlexNet().to(device)\n",
    "model_state_dict=torch.load(loss_model_path, map_location=device)\n",
    "model_best_loss.load_state_dict(model_state_dict)\n",
    "\n",
    "test_dl=DataLoader(test, batch_size=64)"
   ]
  },
  {
   "cell_type": "markdown",
   "metadata": {},
   "source": [
    "##### Best loss model"
   ]
  },
  {
   "cell_type": "code",
   "execution_count": null,
   "metadata": {},
   "outputs": [
    {
     "name": "stdout",
     "output_type": "stream",
     "text": [
      "test loss: 0.6328981759456488, test accuracy: 78.78999328613281%\n"
     ]
    }
   ],
   "source": [
    "running_loss=0\n",
    "running_acc=0\n",
    "\n",
    "model_best_loss.eval()\n",
    "with torch.no_grad():\n",
    "    for i, data in enumerate(test_dl): \n",
    "        test_x, test_y= data\n",
    "        test_x, test_y= test_x.to(device), test_y.to(device)\n",
    "        \n",
    "        test_pred=model_best_loss(test_x)\n",
    "        loss=loss_fn(test_pred, test_y)\n",
    "        _, predicted = torch.max(test_pred, 1)\n",
    "        acc = (predicted == test_y).squeeze().int()\n",
    "        acc = torch.sum(acc)\n",
    "        \n",
    "        running_loss+=loss.item()\n",
    "        running_acc+=acc\n",
    "        \n",
    "    print(f\"test loss: {running_loss/i}, test accuracy: {running_acc/len(test)*100}%\")"
   ]
  },
  {
   "cell_type": "markdown",
   "metadata": {},
   "source": [
    "#### Best accuracy model"
   ]
  },
  {
   "cell_type": "code",
   "execution_count": null,
   "metadata": {},
   "outputs": [
    {
     "name": "stdout",
     "output_type": "stream",
     "text": [
      "test loss: 0.6979015754201473, test accuracy: 81.07999420166016%\n"
     ]
    }
   ],
   "source": [
    "running_loss=0\n",
    "running_acc=0\n",
    "\n",
    "model_best_acc.eval()\n",
    "with torch.no_grad():\n",
    "    for i, data in enumerate(test_dl): \n",
    "        test_x, test_y= data\n",
    "        test_x, test_y= test_x.to(device), test_y.to(device)\n",
    "        \n",
    "        test_pred=model_best_acc(test_x)\n",
    "        loss=loss_fn(test_pred, test_y)\n",
    "        _, predicted = torch.max(test_pred, 1)\n",
    "        acc = (predicted == test_y).squeeze().int()\n",
    "        acc = torch.sum(acc)\n",
    "        \n",
    "        running_loss+=loss.item()\n",
    "        running_acc+=acc\n",
    "        \n",
    "    print(f\"test loss: {running_loss/i}, test accuracy: {running_acc/len(test)*100}%\")"
   ]
  },
  {
   "cell_type": "markdown",
   "metadata": {},
   "source": [
    "결국 목적은 accuracy 아닌가? Accuracy 는 계속 증가하는데"
   ]
  },
  {
   "cell_type": "markdown",
   "metadata": {},
   "source": []
  }
 ],
 "metadata": {
  "kernelspec": {
   "display_name": "Python 3.10.4 ('torchstudy')",
   "language": "python",
   "name": "python3"
  },
  "language_info": {
   "codemirror_mode": {
    "name": "ipython",
    "version": 3
   },
   "file_extension": ".py",
   "mimetype": "text/x-python",
   "name": "python",
   "nbconvert_exporter": "python",
   "pygments_lexer": "ipython3",
   "version": "3.10.4"
  },
  "orig_nbformat": 4,
  "vscode": {
   "interpreter": {
    "hash": "d2a29e84b0c43c20c166437993d835aa1a00044783bb297f1abc4254f32cfca7"
   }
  }
 },
 "nbformat": 4,
 "nbformat_minor": 2
}
