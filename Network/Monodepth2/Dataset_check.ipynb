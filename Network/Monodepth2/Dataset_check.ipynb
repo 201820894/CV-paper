{
 "cells": [
  {
   "cell_type": "code",
   "execution_count": 1,
   "metadata": {},
   "outputs": [],
   "source": [
    "from __future__ import absolute_import, division, print_function\n",
    "\n",
    "import numpy as np\n",
    "import time\n",
    "\n",
    "import torch\n",
    "import torch.nn.functional as F\n",
    "import torch.optim as optim\n",
    "from torch.utils.data import DataLoader\n",
    "from tensorboardX import SummaryWriter\n",
    "\n",
    "import json\n",
    "\n",
    "from utils import *\n",
    "from kitti_utils import *\n",
    "from layers import *\n",
    "\n",
    "import datasets\n",
    "import networks\n",
    "from IPython import embed"
   ]
  },
  {
   "cell_type": "code",
   "execution_count": 2,
   "metadata": {},
   "outputs": [],
   "source": [
    "datasets_dict = {\"kitti\": datasets.KITTIRAWDataset,\n",
    "                 \"kitti_odom\": datasets.KITTIOdomDataset}\n",
    "dataset = datasets_dict[\"kitti\"]\n",
    "fpath = os.path.join(\"splits\", \"eigen_zhou\", \"{}_files.txt\")\n",
    "train_filenames = readlines(fpath.format(\"train\"))\n",
    "val_filenames = readlines(fpath.format(\"val\"))"
   ]
  },
  {
   "cell_type": "code",
   "execution_count": 3,
   "metadata": {},
   "outputs": [
    {
     "name": "stderr",
     "output_type": "stream",
     "text": [
      "c:\\Users\\wongyun\\miniconda3\\envs\\torchstudy\\lib\\site-packages\\torchvision\\transforms\\transforms.py:329: UserWarning: Argument 'interpolation' of type int is deprecated since 0.13 and will be removed in 0.15. Please use InterpolationMode enum.\n",
      "  warnings.warn(\n"
     ]
    }
   ],
   "source": [
    "train_dataset = dataset(\n",
    "    \"kitti_data\", train_filenames, 192, 640,\n",
    "    [0, -1, 1], 4, is_train=True, img_ext='.png')\n",
    "\n",
    "train_loader = DataLoader(\n",
    "    train_dataset, 4, True,\n",
    "    num_workers=4, pin_memory=True, drop_last=True)\n"
   ]
  },
  {
   "cell_type": "code",
   "execution_count": 8,
   "metadata": {},
   "outputs": [
    {
     "name": "stdout",
     "output_type": "stream",
     "text": [
      "<class 'dict'>\n"
     ]
    }
   ],
   "source": [
    "for batch in train_loader:\n",
    "    print(batch)\n",
    "    break"
   ]
  },
  {
   "cell_type": "code",
   "execution_count": 7,
   "metadata": {},
   "outputs": [
    {
     "name": "stdout",
     "output_type": "stream",
     "text": [
      "key: ('K', 0)\n",
      "value.shape:  torch.Size([4, 4, 4])\n",
      "key: ('inv_K', 0)\n",
      "value.shape:  torch.Size([4, 4, 4])\n",
      "key: ('K', 1)\n",
      "value.shape:  torch.Size([4, 4, 4])\n",
      "key: ('inv_K', 1)\n",
      "value.shape:  torch.Size([4, 4, 4])\n",
      "key: ('K', 2)\n",
      "value.shape:  torch.Size([4, 4, 4])\n",
      "key: ('inv_K', 2)\n",
      "value.shape:  torch.Size([4, 4, 4])\n",
      "key: ('K', 3)\n",
      "value.shape:  torch.Size([4, 4, 4])\n",
      "key: ('inv_K', 3)\n",
      "value.shape:  torch.Size([4, 4, 4])\n",
      "key: ('color', 0, 0)\n",
      "value.shape:  torch.Size([4, 3, 192, 640])\n",
      "key: ('color', 0, 1)\n",
      "value.shape:  torch.Size([4, 3, 96, 320])\n",
      "key: ('color', 0, 2)\n",
      "value.shape:  torch.Size([4, 3, 48, 160])\n",
      "key: ('color', 0, 3)\n",
      "value.shape:  torch.Size([4, 3, 24, 80])\n",
      "key: ('color', -1, 0)\n",
      "value.shape:  torch.Size([4, 3, 192, 640])\n",
      "key: ('color', -1, 1)\n",
      "value.shape:  torch.Size([4, 3, 96, 320])\n",
      "key: ('color', -1, 2)\n",
      "value.shape:  torch.Size([4, 3, 48, 160])\n",
      "key: ('color', -1, 3)\n",
      "value.shape:  torch.Size([4, 3, 24, 80])\n",
      "key: ('color', 1, 0)\n",
      "value.shape:  torch.Size([4, 3, 192, 640])\n",
      "key: ('color', 1, 1)\n",
      "value.shape:  torch.Size([4, 3, 96, 320])\n",
      "key: ('color', 1, 2)\n",
      "value.shape:  torch.Size([4, 3, 48, 160])\n",
      "key: ('color', 1, 3)\n",
      "value.shape:  torch.Size([4, 3, 24, 80])\n",
      "key: ('color_aug', 0, 0)\n",
      "value.shape:  torch.Size([4, 3, 192, 640])\n",
      "key: ('color_aug', 0, 1)\n",
      "value.shape:  torch.Size([4, 3, 96, 320])\n",
      "key: ('color_aug', 0, 2)\n",
      "value.shape:  torch.Size([4, 3, 48, 160])\n",
      "key: ('color_aug', 0, 3)\n",
      "value.shape:  torch.Size([4, 3, 24, 80])\n",
      "key: ('color_aug', -1, 0)\n",
      "value.shape:  torch.Size([4, 3, 192, 640])\n",
      "key: ('color_aug', -1, 1)\n",
      "value.shape:  torch.Size([4, 3, 96, 320])\n",
      "key: ('color_aug', -1, 2)\n",
      "value.shape:  torch.Size([4, 3, 48, 160])\n",
      "key: ('color_aug', -1, 3)\n",
      "value.shape:  torch.Size([4, 3, 24, 80])\n",
      "key: ('color_aug', 1, 0)\n",
      "value.shape:  torch.Size([4, 3, 192, 640])\n",
      "key: ('color_aug', 1, 1)\n",
      "value.shape:  torch.Size([4, 3, 96, 320])\n",
      "key: ('color_aug', 1, 2)\n",
      "value.shape:  torch.Size([4, 3, 48, 160])\n",
      "key: ('color_aug', 1, 3)\n",
      "value.shape:  torch.Size([4, 3, 24, 80])\n",
      "key: depth_gt\n",
      "value.shape:  torch.Size([4, 1, 375, 1242])\n"
     ]
    }
   ],
   "source": [
    "for batch in train_loader:\n",
    "    for key, ipt in batch.items():\n",
    "        print(\"key:\", key)\n",
    "        print(\"value.shape: \", ipt.shape)\n",
    "    break"
   ]
  },
  {
   "cell_type": "code",
   "execution_count": null,
   "metadata": {},
   "outputs": [],
   "source": []
  }
 ],
 "metadata": {
  "kernelspec": {
   "display_name": "Python 3.10.4 ('torchstudy')",
   "language": "python",
   "name": "python3"
  },
  "language_info": {
   "codemirror_mode": {
    "name": "ipython",
    "version": 3
   },
   "file_extension": ".py",
   "mimetype": "text/x-python",
   "name": "python",
   "nbconvert_exporter": "python",
   "pygments_lexer": "ipython3",
   "version": "3.10.4"
  },
  "orig_nbformat": 4,
  "vscode": {
   "interpreter": {
    "hash": "d2a29e84b0c43c20c166437993d835aa1a00044783bb297f1abc4254f32cfca7"
   }
  }
 },
 "nbformat": 4,
 "nbformat_minor": 2
}
