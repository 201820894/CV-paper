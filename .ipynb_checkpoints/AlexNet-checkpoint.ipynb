{
 "cells": [
  {
   "cell_type": "code",
   "execution_count": 21,
   "id": "5d440572",
   "metadata": {},
   "outputs": [],
   "source": [
    "import numpy as np\n",
    "import pandas as pd\n",
    "import matplotlib.pyplot as plt\n",
    "import torch\n",
    "import torchvision\n",
    "import torch.nn as nn\n",
    "import torch.optim as optim\n",
    "import torch.functional as F\n",
    "from PIL import Image\n",
    "from torchvision import transforms, datasets\n",
    "from torch.utils.data import Dataset, DataLoader"
   ]
  },
  {
   "cell_type": "code",
   "execution_count": 22,
   "id": "629d84ad",
   "metadata": {
    "scrolled": false
   },
   "outputs": [
    {
     "name": "stdout",
     "output_type": "stream",
     "text": [
      "Files already downloaded and verified\n",
      "Files already downloaded and verified\n"
     ]
    }
   ],
   "source": [
    "train=torchvision.datasets.CIFAR10(root='./cifar10', train=True, download=True, transform=transforms.ToTensor())\n",
    "test=torchvision.datasets.CIFAR10(root='/cifar10', train=False, download=True, transform=transforms.ToTensor())"
   ]
  },
  {
   "cell_type": "code",
   "execution_count": 23,
   "id": "cef000fd",
   "metadata": {},
   "outputs": [
    {
     "name": "stdout",
     "output_type": "stream",
     "text": [
      "(50000, 32, 32, 3)\n",
      "(10000, 32, 32, 3)\n",
      "torch.Size([3, 32, 32])\n"
     ]
    }
   ],
   "source": [
    "print(train.data.shape)\n",
    "print(test.data.shape)\n",
    "#data size\n",
    "#.data는 원본\n",
    "#들어가서 보는애들은 transform 마친애들-> 둘다 저장되어있음\n",
    "#normalize는 Totensor 다음이니까, data말고 원본으로 하는게 맞음\n",
    "print(train[0][0].shape)\n",
    "\n",
    "#dimension: data는 rgb가 뒤에, 내부적으로는 rgb가 앞에"
   ]
  },
  {
   "cell_type": "code",
   "execution_count": 24,
   "id": "95a70189",
   "metadata": {},
   "outputs": [
    {
     "name": "stdout",
     "output_type": "stream",
     "text": [
      "0.49139965 0.48215845 0.4465309\n",
      "0.20220213 0.19931543 0.20086348\n"
     ]
    }
   ],
   "source": [
    "meanRGB=[np.mean(x.numpy(), axis=(1,2)) for x, _ in train] #각 이미지마다 3개씩 남기는거 ->RGB\n",
    "stdRGB=[np.std(x.numpy(), axis=(1,2)) for x, _ in train] \n",
    "\n",
    "[np.mean(x.numpy(), axis=(1,2)) for x, _ in train]\n",
    "\n",
    "meanR = np.mean([m[0] for m in meanRGB])\n",
    "meanG = np.mean([m[1] for m in meanRGB])\n",
    "meanB = np.mean([m[2] for m in meanRGB])\n",
    "\n",
    "stdR = np.mean([s[0] for s in stdRGB])\n",
    "stdG = np.mean([s[1] for s in stdRGB])\n",
    "stdB = np.mean([s[2] for s in stdRGB])\n",
    "\n",
    "print(meanR, meanG, meanB)\n",
    "print(stdR, stdG, stdB)"
   ]
  },
  {
   "cell_type": "code",
   "execution_count": 25,
   "id": "47bb1ff5",
   "metadata": {},
   "outputs": [],
   "source": [
    "transform=transforms.Compose([\n",
    "    transforms.Resize(227),\n",
    "    transforms.ToTensor(),\n",
    "    transforms.Normalize((meanR, meanG, meanB), (stdR, stdG, stdB))\n",
    "])"
   ]
  },
  {
   "cell_type": "code",
   "execution_count": 26,
   "id": "e60ed9fd",
   "metadata": {},
   "outputs": [],
   "source": [
    "train.transform=transform\n",
    "test.transform=transform"
   ]
  },
  {
   "cell_type": "code",
   "execution_count": 27,
   "id": "5afc0da7",
   "metadata": {},
   "outputs": [
    {
     "name": "stderr",
     "output_type": "stream",
     "text": [
      "Clipping input data to the valid range for imshow with RGB data ([0..1] for floats or [0..255] for integers).\n"
     ]
    },
    {
     "name": "stdout",
     "output_type": "stream",
     "text": [
      "24533\n",
      "images indices:  24533\n"
     ]
    },
    {
     "data": {
      "image/png": "[encoded data removed]",
      "text/plain": [
       "<Figure size 720x720 with 1 Axes>"
      ]
     },
     "metadata": {
      "needs_background": "light"
     },
     "output_type": "display_data"
    }
   ],
   "source": [
    "def show(img, y=None, color=True):\n",
    "    npimg=img.numpy()\n",
    "    npimg_tr=np.transpose(npimg, (1,2,0)) #imshow는 RGB가 뒤에\n",
    "    plt.imshow(npimg_tr)\n",
    "    \n",
    "    if y is not None:\n",
    "        plt.title=('label: '+str(y))\n",
    "        \n",
    "rnd_inds = int(np.random.randint(0, len(train), 1))\n",
    "print(rnd_inds)\n",
    "img, label = train[rnd_inds]\n",
    "print('images indices: ', rnd_inds)\n",
    "\n",
    "plt.figure(figsize=(10, 10))\n",
    "show(img)"
   ]
  },
  {
   "cell_type": "code",
   "execution_count": 29,
   "id": "1885aa8d",
   "metadata": {},
   "outputs": [
    {
     "name": "stdout",
     "output_type": "stream",
     "text": [
      "Counter({6: 5000, 9: 5000, 4: 5000, 1: 5000, 2: 5000, 7: 5000, 8: 5000, 3: 5000, 5: 5000, 0: 5000})\n"
     ]
    }
   ],
   "source": [
    "import collections\n",
    "y_train=[y for _,y in train]\n",
    "counter_train=collections.Counter(y_train)\n",
    "print(counter_train)"
   ]
  },
  {
   "cell_type": "code",
   "execution_count": 30,
   "id": "30bbb9e2",
   "metadata": {},
   "outputs": [
    {
     "name": "stdout",
     "output_type": "stream",
     "text": [
      "train: 40000 val: 10000\n"
     ]
    }
   ],
   "source": [
    "from sklearn.model_selection import StratifiedShuffleSplit\n",
    "\n",
    "split=StratifiedShuffleSplit(n_splits=1, test_size=0.2, random_state=0)\n",
    "indices=list(range(len(train)))\n",
    "val=[y for _, y in train]\n",
    "\n",
    "for train_index, val_index in split.split(indices, val):\n",
    "    print('train:', len(train_index), 'val:',len(val_index))\n",
    "#indices, val: indices는 그냥 인덱스, val은 각 index의 값: straitified니까 값 중요"
   ]
  },
  {
   "cell_type": "code",
   "execution_count": 31,
   "id": "a7ab67a4",
   "metadata": {},
   "outputs": [],
   "source": [
    "from torch.utils.data import Subset\n",
    "\n",
    "val=Subset(train, val_index)\n",
    "train=Subset(train, train_index)"
   ]
  },
  {
   "cell_type": "code",
   "execution_count": 32,
   "id": "7f2e27fa",
   "metadata": {},
   "outputs": [
    {
     "name": "stdout",
     "output_type": "stream",
     "text": [
      "Counter({7: 4000, 4: 4000, 1: 4000, 5: 4000, 6: 4000, 8: 4000, 9: 4000, 0: 4000, 3: 4000, 2: 4000})\n",
      "Counter({4: 1000, 3: 1000, 2: 1000, 8: 1000, 5: 1000, 7: 1000, 6: 1000, 0: 1000, 9: 1000, 1: 1000})\n"
     ]
    }
   ],
   "source": [
    "y_train=[y for _, y in train]\n",
    "y_val=[y for _, y in val]\n",
    "\n",
    "counter_train=collections.Counter(y_train)\n",
    "counter_val=collections.Counter(y_val)\n",
    "\n",
    "print(counter_train)\n",
    "print(counter_val)"
   ]
  },
  {
   "cell_type": "code",
   "execution_count": 33,
   "id": "0eb9ef03",
   "metadata": {},
   "outputs": [
    {
     "name": "stdout",
     "output_type": "stream",
     "text": [
      "torch.Size([32, 3, 227, 227])\n",
      "torch.Size([32])\n",
      "torch.Size([32, 3, 227, 227])\n",
      "torch.Size([32])\n"
     ]
    }
   ],
   "source": [
    "train_dl=DataLoader(train, batch_size=32, shuffle=True)\n",
    "val_dl=DataLoader(val, batch_size=32, shuffle=False)\n",
    "\n",
    "for x,y in train_dl:\n",
    "    print(x.shape)\n",
    "    print(y.shape)\n",
    "    break\n",
    "for x,y in val_dl:\n",
    "    print(x.shape)\n",
    "    print(y.shape)\n",
    "    break"
   ]
  },
  {
   "cell_type": "code",
   "execution_count": 45,
   "id": "c1512bf9",
   "metadata": {
    "scrolled": true
   },
   "outputs": [
    {
     "name": "stdout",
     "output_type": "stream",
     "text": [
      "cuda\n"
     ]
    }
   ],
   "source": [
    "device=torch.device('cuda' if torch.cuda.is_available() else 'cpu')\n",
    "print(device)"
   ]
  },
  {
   "cell_type": "code",
   "execution_count": 46,
   "id": "4330eec7",
   "metadata": {},
   "outputs": [],
   "source": [
    "class AlexNet(nn.Module):\n",
    "    def __init__(self, num_classes=10):\n",
    "        super(AlexNet, self).__init__()\n",
    "        \n",
    "        self.net=nn.Sequential(\n",
    "            nn.Conv2d(3,96, kernel_size=11, stride=4, padding='valid'),\n",
    "            nn.ReLU(inplace=True),\n",
    "            nn.LocalResponseNorm(size=5, alpha=1e-4, beta=0.75, k=2),\n",
    "            nn.MaxPool2d(kernel_size=3, stride=2),\n",
    "            \n",
    "            nn.Conv2d(96, 256, kernel_size=5, stride=1, padding='same'),\n",
    "            nn.ReLU(inplace=True),\n",
    "            nn.LocalResponseNorm(size=5, alpha=1e-4, beta=0.75, k=2),\n",
    "            nn.MaxPool2d(kernel_size=3, stride=2),\n",
    "            \n",
    "            nn.Conv2d(256, 384, kernel_size=3, stride=1, padding='same'),\n",
    "            nn.ReLU(inplace=True),\n",
    "            \n",
    "            nn.Conv2d(384,384, kernel_size=3, stride=1, padding='same'),\n",
    "            nn.ReLU(inplace=True),\n",
    "            \n",
    "            nn.Conv2d(384, 256, kernel_size=3, stride=1, padding='same'),\n",
    "            nn.ReLU(inplace=True),\n",
    "            nn.MaxPool2d(kernel_size=3, stride=2)\n",
    "        )\n",
    "        \n",
    "        self.classifier=nn.Sequential(\n",
    "            nn.Dropout(p=0.5, inplace=True),\n",
    "            nn.Linear(in_features=256*6*6, out_features=4096),\n",
    "            nn.ReLU(),\n",
    "            nn.Dropout(p=0.5, inplace=True),\n",
    "            nn.Linear(4096, 4096),\n",
    "            nn.ReLU(),\n",
    "            nn.Linear(in_features=4096, out_features=num_classes)\n",
    "        )\n",
    "        self.init_weight()\n",
    "        \n",
    "    def init_weight(self):\n",
    "        for layer in self.net:\n",
    "            if isinstance(layer, nn.Conv2d):\n",
    "                nn.init.normal_(layer.weight, mean=0, std=0.01)\n",
    "                nn.init.constant_(layer.bias, 0)\n",
    "        nn.init.constant_(self.net[4].bias ,0)\n",
    "        nn.init.constant_(self.net[10].bias, 1)\n",
    "        nn.init.constant_(self.net[12].bias, 1)\n",
    "        \n",
    "    def forward(self, x):\n",
    "        x=self.net(x)\n",
    "        x=x.view(-1,256*6*6)\n",
    "        x=self.classifier(x)\n",
    "        return(x)"
   ]
  },
  {
   "cell_type": "code",
   "execution_count": 47,
   "id": "be924580",
   "metadata": {},
   "outputs": [
    {
     "name": "stdout",
     "output_type": "stream",
     "text": [
      "AlexNet(\n",
      "  (net): Sequential(\n",
      "    (0): Conv2d(3, 96, kernel_size=(11, 11), stride=(4, 4), padding=valid)\n",
      "    (1): ReLU(inplace=True)\n",
      "    (2): LocalResponseNorm(5, alpha=0.0001, beta=0.75, k=2)\n",
      "    (3): MaxPool2d(kernel_size=3, stride=2, padding=0, dilation=1, ceil_mode=False)\n",
      "    (4): Conv2d(96, 256, kernel_size=(5, 5), stride=(1, 1), padding=same)\n",
      "    (5): ReLU(inplace=True)\n",
      "    (6): LocalResponseNorm(5, alpha=0.0001, beta=0.75, k=2)\n",
      "    (7): MaxPool2d(kernel_size=3, stride=2, padding=0, dilation=1, ceil_mode=False)\n",
      "    (8): Conv2d(256, 384, kernel_size=(3, 3), stride=(1, 1), padding=same)\n",
      "    (9): ReLU(inplace=True)\n",
      "    (10): Conv2d(384, 384, kernel_size=(3, 3), stride=(1, 1), padding=same)\n",
      "    (11): ReLU(inplace=True)\n",
      "    (12): Conv2d(384, 256, kernel_size=(3, 3), stride=(1, 1), padding=same)\n",
      "    (13): ReLU(inplace=True)\n",
      "    (14): MaxPool2d(kernel_size=3, stride=2, padding=0, dilation=1, ceil_mode=False)\n",
      "  )\n",
      "  (classifier): Sequential(\n",
      "    (0): Dropout(p=0.5, inplace=True)\n",
      "    (1): Linear(in_features=9216, out_features=4096, bias=True)\n",
      "    (2): ReLU()\n",
      "    (3): Dropout(p=0.5, inplace=True)\n",
      "    (4): Linear(in_features=4096, out_features=4096, bias=True)\n",
      "    (5): ReLU()\n",
      "    (6): Linear(in_features=4096, out_features=10, bias=True)\n",
      "  )\n",
      ")\n"
     ]
    }
   ],
   "source": [
    "model = AlexNet().to(device)\n",
    "print(model)"
   ]
  },
  {
   "cell_type": "code",
   "execution_count": 48,
   "id": "524f9a05",
   "metadata": {},
   "outputs": [
    {
     "name": "stdout",
     "output_type": "stream",
     "text": [
      "----------------------------------------------------------------\n",
      "        Layer (type)               Output Shape         Param #\n",
      "================================================================\n",
      "            Conv2d-1           [-1, 96, 55, 55]          34,944\n",
      "              ReLU-2           [-1, 96, 55, 55]               0\n",
      " LocalResponseNorm-3           [-1, 96, 55, 55]               0\n",
      "         MaxPool2d-4           [-1, 96, 27, 27]               0\n",
      "            Conv2d-5          [-1, 256, 27, 27]         614,656\n",
      "              ReLU-6          [-1, 256, 27, 27]               0\n",
      " LocalResponseNorm-7          [-1, 256, 27, 27]               0\n",
      "         MaxPool2d-8          [-1, 256, 13, 13]               0\n",
      "            Conv2d-9          [-1, 384, 13, 13]         885,120\n",
      "             ReLU-10          [-1, 384, 13, 13]               0\n",
      "           Conv2d-11          [-1, 384, 13, 13]       1,327,488\n",
      "             ReLU-12          [-1, 384, 13, 13]               0\n",
      "           Conv2d-13          [-1, 256, 13, 13]         884,992\n",
      "             ReLU-14          [-1, 256, 13, 13]               0\n",
      "        MaxPool2d-15            [-1, 256, 6, 6]               0\n",
      "          Dropout-16                 [-1, 9216]               0\n",
      "           Linear-17                 [-1, 4096]      37,752,832\n",
      "             ReLU-18                 [-1, 4096]               0\n",
      "          Dropout-19                 [-1, 4096]               0\n",
      "           Linear-20                 [-1, 4096]      16,781,312\n",
      "             ReLU-21                 [-1, 4096]               0\n",
      "           Linear-22                   [-1, 10]          40,970\n",
      "================================================================\n",
      "Total params: 58,322,314\n",
      "Trainable params: 58,322,314\n",
      "Non-trainable params: 0\n",
      "----------------------------------------------------------------\n",
      "Input size (MB): 0.59\n",
      "Forward/backward pass size (MB): 14.72\n",
      "Params size (MB): 222.48\n",
      "Estimated Total Size (MB): 237.79\n",
      "----------------------------------------------------------------\n"
     ]
    }
   ],
   "source": [
    "from torchsummary import summary\n",
    "summary(model, input_size=(3,227,227), device=device.type)"
   ]
  },
  {
   "cell_type": "code",
   "execution_count": 49,
   "id": "3403e79d",
   "metadata": {
    "scrolled": true
   },
   "outputs": [
    {
     "name": "stdout",
     "output_type": "stream",
     "text": [
      "Parameter containing:\n",
      "tensor([[[[-6.2602e-03,  1.3968e-03, -1.9100e-02,  ...,  1.9827e-03,\n",
      "            8.0615e-03,  2.2829e-02],\n",
      "          [-1.4830e-03, -1.7404e-02, -7.9146e-03,  ...,  1.0717e-02,\n",
      "           -8.4769e-03, -5.2050e-03],\n",
      "          [-1.6469e-02,  2.2097e-02, -1.3652e-03,  ..., -7.7297e-03,\n",
      "            7.1370e-03, -6.9185e-03],\n",
      "          ...,\n",
      "          [-6.5223e-03,  9.0527e-03,  3.2665e-03,  ..., -2.1372e-03,\n",
      "            7.5373e-03,  1.8656e-02],\n",
      "          [-2.2075e-03, -3.5765e-03, -1.1703e-02,  ...,  1.0869e-02,\n",
      "            1.9014e-02,  1.2610e-02],\n",
      "          [-1.0453e-02,  1.2028e-03, -2.5544e-03,  ..., -4.0248e-03,\n",
      "           -5.3279e-03,  1.2913e-03]],\n",
      "\n",
      "         [[-4.1257e-03,  1.0028e-03,  4.9555e-03,  ...,  7.6133e-03,\n",
      "            4.2502e-03,  3.2821e-03],\n",
      "          [-1.3976e-02,  8.2307e-03,  4.2520e-04,  ..., -1.0332e-02,\n",
      "            3.9149e-03,  1.7306e-03],\n",
      "          [ 4.7120e-03,  1.1205e-02, -1.2390e-03,  ..., -1.7827e-03,\n",
      "           -2.2311e-03,  1.2696e-03],\n",
      "          ...,\n",
      "          [ 2.6240e-03, -1.2021e-02, -4.8254e-03,  ..., -5.0136e-03,\n",
      "           -9.7975e-03, -3.1112e-03],\n",
      "          [-2.0343e-02,  6.4961e-03, -2.0721e-02,  ..., -3.6839e-03,\n",
      "           -1.2739e-02,  1.6146e-02],\n",
      "          [-3.5752e-03,  6.7324e-03, -7.9808e-03,  ..., -5.4581e-03,\n",
      "           -6.8760e-03, -4.0192e-03]],\n",
      "\n",
      "         [[ 1.1353e-02, -1.1109e-02, -5.5968e-03,  ..., -4.2609e-03,\n",
      "           -1.2142e-02,  8.2660e-03],\n",
      "          [ 7.8524e-04, -2.8313e-02, -1.8193e-03,  ...,  2.4344e-03,\n",
      "            5.4625e-03,  5.5654e-03],\n",
      "          [ 1.1310e-02,  5.3614e-03,  1.8986e-03,  ..., -2.6010e-03,\n",
      "            1.1418e-02,  6.9536e-04],\n",
      "          ...,\n",
      "          [ 7.5889e-03,  6.6737e-03,  1.0752e-02,  ..., -7.3978e-03,\n",
      "           -2.3018e-03,  6.5042e-03],\n",
      "          [ 5.3293e-03,  5.7436e-03, -7.3487e-03,  ...,  2.9859e-03,\n",
      "            3.9357e-03,  3.9392e-03],\n",
      "          [ 4.4740e-03, -2.6107e-03, -4.0071e-03,  ...,  3.3236e-04,\n",
      "           -3.1746e-03,  7.0181e-03]]],\n",
      "\n",
      "\n",
      "        [[[-6.4918e-03, -1.2622e-02,  1.1935e-02,  ..., -2.4709e-03,\n",
      "           -1.2916e-02, -9.9848e-03],\n",
      "          [-7.8708e-03,  1.6541e-02,  4.3944e-03,  ...,  9.1660e-03,\n",
      "           -4.3058e-03,  5.4222e-03],\n",
      "          [-2.0678e-03,  1.0026e-02, -9.3036e-03,  ..., -4.8780e-03,\n",
      "           -9.4402e-03, -7.1823e-03],\n",
      "          ...,\n",
      "          [ 1.0666e-02, -2.7117e-03,  4.6805e-03,  ..., -3.4895e-04,\n",
      "           -2.0456e-03, -6.9184e-03],\n",
      "          [ 1.5642e-02,  1.8400e-02,  1.2025e-02,  ..., -5.8886e-05,\n",
      "            3.7586e-02,  6.4514e-03],\n",
      "          [ 1.1563e-02, -1.8605e-03,  8.7906e-03,  ...,  7.8872e-03,\n",
      "            1.5964e-02,  1.2721e-02]],\n",
      "\n",
      "         [[ 9.0542e-03, -1.5231e-02,  1.2959e-02,  ...,  1.7798e-03,\n",
      "           -1.0403e-02,  1.1545e-02],\n",
      "          [-6.3171e-03,  3.1279e-03,  1.5238e-03,  ..., -3.2066e-03,\n",
      "            7.4238e-03,  2.6952e-03],\n",
      "          [ 1.1654e-02, -1.1885e-02, -3.8105e-06,  ..., -1.1299e-02,\n",
      "            9.3616e-03,  1.2687e-02],\n",
      "          ...,\n",
      "          [-9.6908e-03, -2.1210e-03, -1.3854e-04,  ...,  8.7631e-03,\n",
      "            3.3919e-04,  7.6608e-03],\n",
      "          [ 9.0801e-03,  1.6317e-02,  1.5771e-03,  ...,  8.8069e-03,\n",
      "           -3.0137e-03, -1.2931e-02],\n",
      "          [-3.1956e-03, -4.3031e-03,  4.4503e-03,  ...,  7.0977e-03,\n",
      "            8.0479e-03,  3.6573e-03]],\n",
      "\n",
      "         [[ 4.9970e-03,  4.1710e-03,  1.1341e-02,  ..., -1.1183e-03,\n",
      "            3.0116e-03,  1.8439e-03],\n",
      "          [-1.0295e-03, -4.8035e-03, -7.7226e-04,  ...,  3.8404e-03,\n",
      "            6.5014e-03, -7.7621e-03],\n",
      "          [ 1.9101e-02, -2.2253e-02,  1.0857e-03,  ..., -1.1959e-02,\n",
      "           -6.8205e-03, -2.9380e-03],\n",
      "          ...,\n",
      "          [-1.6225e-02, -2.6909e-02,  2.1700e-02,  ..., -1.5433e-02,\n",
      "           -1.5537e-04, -1.9174e-03],\n",
      "          [-5.5375e-03, -1.1453e-02,  3.5203e-03,  ..., -9.0589e-03,\n",
      "           -1.1065e-02, -4.3370e-03],\n",
      "          [ 1.5339e-02, -1.6882e-02, -1.8983e-02,  ..., -4.9320e-03,\n",
      "            3.1677e-03,  1.4296e-02]]],\n",
      "\n",
      "\n",
      "        [[[ 1.0677e-02, -1.4206e-02, -7.0428e-03,  ...,  3.9045e-03,\n",
      "            5.6110e-03,  7.9440e-03],\n",
      "          [-8.1229e-03,  3.1740e-03, -3.2386e-03,  ...,  6.0926e-03,\n",
      "           -1.1679e-02, -1.9037e-04],\n",
      "          [-3.9357e-03, -2.1748e-03,  9.3648e-03,  ...,  5.1616e-03,\n",
      "            2.3493e-02,  5.7663e-03],\n",
      "          ...,\n",
      "          [ 2.0827e-04,  6.2402e-03, -4.6108e-03,  ..., -3.0061e-03,\n",
      "           -5.5569e-03,  7.7235e-03],\n",
      "          [ 2.5640e-04,  1.0573e-02,  1.1544e-02,  ...,  8.2694e-03,\n",
      "            5.1959e-03, -6.2413e-03],\n",
      "          [-1.8882e-02,  3.0551e-02, -2.5078e-03,  ...,  1.4153e-02,\n",
      "            3.3336e-03,  3.5121e-03]],\n",
      "\n",
      "         [[-2.9215e-03, -1.4753e-04, -7.8423e-03,  ..., -4.7598e-04,\n",
      "           -3.3149e-03,  5.9892e-03],\n",
      "          [ 1.5354e-02, -1.5006e-02, -1.2332e-03,  ..., -4.3550e-03,\n",
      "           -1.8984e-02, -1.0384e-04],\n",
      "          [ 5.2861e-03, -7.1410e-03,  1.2295e-02,  ...,  2.0377e-03,\n",
      "            4.6792e-03, -1.1328e-02],\n",
      "          ...,\n",
      "          [ 4.1949e-03,  6.3172e-03,  1.3985e-02,  ...,  1.6518e-02,\n",
      "           -1.3530e-03, -1.3388e-02],\n",
      "          [-7.8082e-03,  6.6265e-04,  2.0025e-03,  ...,  8.4519e-04,\n",
      "           -2.5586e-03,  5.2209e-04],\n",
      "          [-4.1352e-03, -9.6431e-03, -1.0818e-02,  ..., -2.4119e-03,\n",
      "           -4.7765e-03, -3.4276e-03]],\n",
      "\n",
      "         [[-2.5140e-02, -2.5392e-03, -2.9439e-04,  ...,  1.4887e-02,\n",
      "           -1.9877e-02,  1.4408e-02],\n",
      "          [ 4.2486e-03,  8.3486e-03,  1.1552e-02,  ...,  8.1322e-03,\n",
      "            2.1580e-02, -2.6466e-04],\n",
      "          [-2.2794e-03, -2.0752e-03,  1.2903e-02,  ..., -8.2201e-03,\n",
      "           -3.5193e-03,  1.4220e-03],\n",
      "          ...,\n",
      "          [-9.1646e-03, -4.9940e-03,  1.0334e-02,  ...,  2.6983e-03,\n",
      "           -1.7709e-02, -1.5333e-03],\n",
      "          [-5.9093e-03,  1.4536e-02,  3.5592e-03,  ...,  2.5221e-03,\n",
      "           -2.4475e-03, -2.1448e-03],\n",
      "          [-1.2162e-02, -1.8696e-02,  7.4146e-04,  ...,  5.6825e-03,\n",
      "            4.2685e-03,  4.3765e-03]]],\n",
      "\n",
      "\n",
      "        ...,\n",
      "\n",
      "\n",
      "        [[[ 1.6155e-02,  5.3900e-03,  1.5802e-02,  ...,  5.4820e-03,\n",
      "           -7.6925e-03, -8.5563e-03],\n",
      "          [-1.8089e-02, -1.6553e-02,  1.3013e-02,  ...,  6.9424e-03,\n",
      "            7.9593e-03,  1.1925e-02],\n",
      "          [-6.0464e-03, -8.7215e-03, -3.4987e-03,  ..., -4.6423e-03,\n",
      "           -6.2372e-03, -5.0739e-03],\n",
      "          ...,\n",
      "          [-1.2750e-02, -1.6190e-02, -1.1541e-03,  ..., -1.4084e-02,\n",
      "            1.1392e-02, -8.8671e-03],\n",
      "          [-5.5068e-03, -8.1360e-03, -2.8491e-03,  ...,  2.3274e-02,\n",
      "            4.9874e-04,  1.6160e-02],\n",
      "          [-6.5075e-03, -3.0136e-03,  3.8036e-03,  ..., -1.3642e-03,\n",
      "           -2.3548e-02,  2.8149e-03]],\n",
      "\n",
      "         [[ 4.4648e-03,  4.3130e-03, -4.0153e-03,  ...,  3.2286e-03,\n",
      "            3.1726e-03,  9.3951e-04],\n",
      "          [-4.7199e-03, -4.4172e-03, -6.9056e-05,  ...,  3.9359e-03,\n",
      "           -4.2098e-03,  4.4230e-04],\n",
      "          [ 5.3870e-03, -3.2980e-03, -1.1143e-02,  ..., -3.5397e-03,\n",
      "            1.3234e-03,  9.5336e-05],\n",
      "          ...,\n",
      "          [ 3.3001e-03,  2.9493e-02,  6.3276e-03,  ..., -1.6434e-02,\n",
      "            2.4008e-03, -5.0475e-03],\n",
      "          [-5.2125e-03,  5.0843e-03,  7.5962e-03,  ..., -1.4058e-02,\n",
      "            1.2827e-02,  1.6077e-02],\n",
      "          [-1.0467e-02,  8.8248e-03, -3.9933e-04,  ..., -1.2528e-02,\n",
      "            1.5546e-02, -1.6008e-02]],\n",
      "\n",
      "         [[-1.7159e-02, -5.2524e-03, -1.3745e-04,  ...,  1.7464e-02,\n",
      "            1.8730e-03,  7.3735e-03],\n",
      "          [ 1.2334e-02, -1.3371e-02,  4.7631e-03,  ..., -1.6744e-02,\n",
      "            1.3866e-02,  8.0279e-03],\n",
      "          [-7.6920e-03,  4.9477e-04, -6.5509e-03,  ...,  1.1074e-02,\n",
      "            1.3316e-02, -2.0030e-02],\n",
      "          ...,\n",
      "          [-2.8735e-03, -1.8945e-02, -6.0118e-03,  ..., -4.8884e-03,\n",
      "            6.0170e-03,  2.1897e-02],\n",
      "          [-1.3448e-05,  6.2567e-03,  3.8130e-04,  ..., -4.6378e-03,\n",
      "            1.3919e-02, -1.9678e-02],\n",
      "          [ 2.2429e-02,  5.6404e-03,  7.6012e-03,  ...,  5.7987e-03,\n",
      "           -1.8123e-02, -9.8037e-04]]],\n",
      "\n",
      "\n",
      "        [[[ 2.8150e-03, -8.3211e-03, -1.1264e-02,  ..., -1.5756e-03,\n",
      "            1.1827e-02, -2.7751e-03],\n",
      "          [-1.8770e-03, -6.2071e-03, -1.8354e-02,  ...,  3.7089e-03,\n",
      "           -9.4292e-03, -2.0129e-03],\n",
      "          [ 2.3125e-03, -5.0939e-03,  5.5795e-04,  ..., -3.6396e-04,\n",
      "           -6.7701e-04,  1.7072e-02],\n",
      "          ...,\n",
      "          [ 2.1876e-03,  1.6281e-03, -6.0453e-03,  ...,  2.1031e-02,\n",
      "            1.7781e-02,  1.0965e-02],\n",
      "          [-9.1281e-03, -9.2151e-03, -1.2126e-03,  ...,  4.8857e-03,\n",
      "            4.6334e-03, -4.7453e-03],\n",
      "          [-1.2157e-02, -6.8560e-03,  6.6889e-03,  ...,  1.0147e-02,\n",
      "            6.0607e-04,  7.8187e-03]],\n",
      "\n",
      "         [[ 5.4475e-03, -2.7140e-03, -1.6121e-03,  ...,  1.3836e-02,\n",
      "           -5.2915e-03, -3.0893e-04],\n",
      "          [-1.5360e-02,  7.3756e-03, -8.3699e-05,  ...,  1.1843e-02,\n",
      "            5.6393e-03, -3.2241e-03],\n",
      "          [-1.4124e-02, -1.0396e-02,  1.6834e-02,  ...,  2.4272e-02,\n",
      "           -1.8460e-03,  5.4437e-03],\n",
      "          ...,\n",
      "          [ 1.7477e-03, -3.5969e-03, -3.5876e-04,  ...,  1.6819e-03,\n",
      "            3.1821e-03,  2.3642e-03],\n",
      "          [ 1.9345e-03, -1.9752e-02,  1.2244e-02,  ...,  2.1332e-02,\n",
      "           -1.8182e-03,  4.9743e-03],\n",
      "          [-5.0763e-03, -9.7455e-03, -2.3139e-04,  ..., -1.4080e-02,\n",
      "            4.2959e-03,  9.6324e-04]],\n",
      "\n",
      "         [[ 1.8303e-02,  1.3217e-03,  6.7360e-03,  ...,  8.5344e-03,\n",
      "            8.8806e-04, -2.6141e-03],\n",
      "          [-4.2034e-04, -7.5860e-03,  3.1533e-03,  ..., -3.9339e-03,\n",
      "            4.4554e-03, -1.0091e-03],\n",
      "          [ 4.1297e-04,  1.8245e-03,  6.8682e-03,  ..., -9.3937e-03,\n",
      "           -1.9734e-02,  1.4703e-02],\n",
      "          ...,\n",
      "          [-5.8100e-03, -9.9763e-03, -3.8694e-03,  ...,  1.7380e-03,\n",
      "            1.6099e-03, -1.6894e-03],\n",
      "          [ 1.5034e-02,  1.0295e-02,  2.0204e-02,  ...,  1.0415e-02,\n",
      "           -8.1296e-03,  1.1954e-02],\n",
      "          [-1.2300e-02, -8.7409e-03,  7.1451e-03,  ..., -1.8051e-02,\n",
      "           -5.8202e-05,  3.3150e-03]]],\n",
      "\n",
      "\n",
      "        [[[ 1.6165e-02, -5.5129e-03,  4.9030e-03,  ..., -2.8605e-03,\n",
      "            2.5876e-05,  1.9244e-02],\n",
      "          [ 7.6819e-03,  1.4322e-02, -1.7020e-02,  ..., -6.0723e-03,\n",
      "            4.3708e-03,  1.2954e-02],\n",
      "          [ 8.0902e-03,  5.5729e-03, -1.1377e-02,  ..., -6.6062e-03,\n",
      "           -4.5551e-04,  6.8184e-03],\n",
      "          ...,\n",
      "          [ 1.8051e-02, -1.1945e-02,  2.8832e-03,  ..., -6.6920e-04,\n",
      "            6.6506e-03, -1.4725e-03],\n",
      "          [-2.3232e-02, -1.1776e-02,  6.2817e-03,  ...,  4.6148e-03,\n",
      "            5.6400e-03, -2.6397e-03],\n",
      "          [ 7.8344e-03, -1.1322e-02,  1.4752e-02,  ...,  1.0990e-02,\n",
      "            5.7664e-03,  6.8770e-03]],\n",
      "\n",
      "         [[ 1.2965e-02,  2.5869e-03, -2.3759e-03,  ..., -5.2339e-03,\n",
      "           -2.0971e-03, -3.9044e-03],\n",
      "          [-9.5544e-03, -2.1133e-02, -2.1410e-03,  ..., -1.0043e-03,\n",
      "           -5.1740e-04, -6.3964e-03],\n",
      "          [-1.0935e-02, -5.2986e-03,  8.2633e-03,  ..., -1.9230e-02,\n",
      "           -2.5810e-03, -1.6096e-02],\n",
      "          ...,\n",
      "          [ 2.6957e-03,  6.4948e-03, -4.2762e-03,  ...,  5.7841e-03,\n",
      "            1.9274e-02, -2.8640e-03],\n",
      "          [ 5.4937e-03, -1.2068e-02,  5.8644e-03,  ...,  4.8289e-04,\n",
      "           -1.0962e-02,  6.4640e-03],\n",
      "          [-1.7608e-04,  9.9068e-03,  1.8294e-03,  ...,  1.0170e-02,\n",
      "            2.2892e-02,  4.4009e-03]],\n",
      "\n",
      "         [[-7.4109e-05,  2.4271e-03, -5.8432e-03,  ...,  6.3284e-03,\n",
      "            4.6017e-03, -4.7742e-03],\n",
      "          [-1.0830e-02, -3.5605e-03, -1.7760e-03,  ...,  1.1420e-02,\n",
      "           -9.2456e-04,  7.9869e-03],\n",
      "          [ 9.2500e-03,  2.0335e-02, -2.6111e-03,  ..., -1.7298e-02,\n",
      "           -9.1252e-03, -1.1073e-03],\n",
      "          ...,\n",
      "          [-1.6912e-02,  1.2027e-02, -1.1808e-02,  ..., -5.7438e-03,\n",
      "           -6.1677e-03, -2.6767e-03],\n",
      "          [-7.4484e-03, -2.1438e-03, -1.7403e-02,  ..., -1.1888e-03,\n",
      "           -1.1373e-03, -2.2280e-02],\n",
      "          [-4.0142e-03, -3.8019e-03,  1.6894e-02,  ...,  8.5842e-04,\n",
      "           -2.1666e-03, -1.0985e-02]]]], device='cuda:0', requires_grad=True)\n"
     ]
    }
   ],
   "source": [
    "for p in model.parameters():\n",
    "    print(p)\n",
    "    break"
   ]
  },
  {
   "cell_type": "code",
   "execution_count": 58,
   "id": "e30a3994",
   "metadata": {},
   "outputs": [
    {
     "ename": "AttributeError",
     "evalue": "'SGD' object has no attribute 'SGD'",
     "output_type": "error",
     "traceback": [
      "\u001b[1;31m---------------------------------------------------------------------------\u001b[0m",
      "\u001b[1;31mAttributeError\u001b[0m                            Traceback (most recent call last)",
      "Input \u001b[1;32mIn [58]\u001b[0m, in \u001b[0;36m<cell line: 3>\u001b[1;34m()\u001b[0m\n\u001b[0;32m      1\u001b[0m loss_fn\u001b[38;5;241m=\u001b[39mnn\u001b[38;5;241m.\u001b[39mCrossEntropyLoss(reduction\u001b[38;5;241m=\u001b[39m\u001b[38;5;124m'\u001b[39m\u001b[38;5;124msum\u001b[39m\u001b[38;5;124m'\u001b[39m)\n\u001b[1;32m----> 3\u001b[0m opt\u001b[38;5;241m=\u001b[39m\u001b[43moptim\u001b[49m\u001b[38;5;241;43m.\u001b[39;49m\u001b[43mSGD\u001b[49m(model\u001b[38;5;241m.\u001b[39mparameters(), lr\u001b[38;5;241m=\u001b[39m\u001b[38;5;241m0.01\u001b[39m, momentum\u001b[38;5;241m=\u001b[39m\u001b[38;5;241m0.9\u001b[39m, weight_decay\u001b[38;5;241m=\u001b[39m\u001b[38;5;241m5e-4\u001b[39m)\n\u001b[0;32m      5\u001b[0m opt\u001b[38;5;241m.\u001b[39mparam_groups[\u001b[38;5;241m0\u001b[39m]\n",
      "\u001b[1;31mAttributeError\u001b[0m: 'SGD' object has no attribute 'SGD'"
     ]
    }
   ],
   "source": [
    "loss_fn=nn.CrossEntropyLoss(reduction='sum')\n",
    "\n",
    "opt=optim.SGD(model.parameters(), lr=0.01, momentum=0.9, weight_decay=5e-4)\n",
    "\n",
    "opt.param_groups[0]"
   ]
  },
  {
   "cell_type": "code",
   "execution_count": 62,
   "id": "dd2ac4cc",
   "metadata": {},
   "outputs": [
    {
     "data": {
      "text/plain": [
       "dict_keys(['params', 'lr', 'momentum', 'dampening', 'weight_decay', 'nesterov', 'maximize', 'foreach'])"
      ]
     },
     "execution_count": 62,
     "metadata": {},
     "output_type": "execute_result"
    }
   ],
   "source": [
    "opt.param_groups[0].keys()"
   ]
  },
  {
   "cell_type": "code",
   "execution_count": 68,
   "id": "fca77a3b",
   "metadata": {},
   "outputs": [
    {
     "data": {
      "text/plain": [
       "16"
      ]
     },
     "execution_count": 68,
     "metadata": {},
     "output_type": "execute_result"
    }
   ],
   "source": [
    "len(opt.param_groups[0]['params'])"
   ]
  },
  {
   "cell_type": "code",
   "execution_count": null,
   "id": "12382b95",
   "metadata": {},
   "outputs": [],
   "source": [
    "loss_fn=nn.CrossEntropyLoss(reduction='sum')\n",
    "\n",
    "opt=optim.SGD(model.parameters(), lr=0.01, momentum=0.9, weight_decay=5e-4)\n",
    "\n",
    "def get_lr(optim):\n",
    "    for param_group in optim.param_groups:\n",
    "        return param_group['lr']\n",
    "    \n",
    "from torch.optim.lr_scheduler import StepLR\n",
    "lr_scheduler=StepLR(opt, step_size=30, gamma=0.1)\n",
    "\n"
   ]
  },
  {
   "cell_type": "code",
   "execution_count": 16,
   "id": "7ec07f0e",
   "metadata": {},
   "outputs": [],
   "source": [
    "epochs=10\n",
    "batch_size=512\n",
    "\n",
    "device=('cuda' if torch.cuda.is_available else 'cpu')\n",
    "class_name=['plane', 'car', 'bird', 'cat', 'deer', 'dog', 'frog', 'sheep', 'truck']"
   ]
  },
  {
   "cell_type": "code",
   "execution_count": null,
   "id": "2463b3fa",
   "metadata": {},
   "outputs": [],
   "source": []
  }
 ],
 "metadata": {
  "kernelspec": {
   "display_name": "torchstudy",
   "language": "python",
   "name": "torchstudy"
  },
  "language_info": {
   "codemirror_mode": {
    "name": "ipython",
    "version": 3
   },
   "file_extension": ".py",
   "mimetype": "text/x-python",
   "name": "python",
   "nbconvert_exporter": "python",
   "pygments_lexer": "ipython3",
   "version": "3.10.4"
  }
 },
 "nbformat": 4,
 "nbformat_minor": 5
}
